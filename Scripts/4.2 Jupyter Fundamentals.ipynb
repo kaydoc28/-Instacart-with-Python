{
 "cells": [
  {
   "cell_type": "markdown",
   "id": "7aaea14e",
   "metadata": {},
   "source": [
    "#Import Libraries"
   ]
  },
  {
   "cell_type": "code",
   "execution_count": 3,
   "id": "ad9951c0",
   "metadata": {},
   "outputs": [],
   "source": [
    "import pandas  as pd\n",
    "import numpy as np\n",
    "import os"
   ]
  },
  {
   "cell_type": "markdown",
   "id": "b39ae232",
   "metadata": {},
   "source": [
    "#Data Types"
   ]
  },
  {
   "cell_type": "code",
   "execution_count": 4,
   "id": "8094eae3",
   "metadata": {},
   "outputs": [],
   "source": [
    "x = 50"
   ]
  },
  {
   "cell_type": "code",
   "execution_count": 6,
   "id": "f9fbcbee",
   "metadata": {},
   "outputs": [],
   "source": [
    "y = 25"
   ]
  },
  {
   "cell_type": "code",
   "execution_count": 7,
   "id": "624088f8",
   "metadata": {},
   "outputs": [
    {
     "data": {
      "text/plain": [
       "100"
      ]
     },
     "execution_count": 7,
     "metadata": {},
     "output_type": "execute_result"
    }
   ],
   "source": [
    "x + y + y"
   ]
  },
  {
   "cell_type": "code",
   "execution_count": 10,
   "id": "ab6bf5cc",
   "metadata": {},
   "outputs": [],
   "source": [
    "z = 200"
   ]
  },
  {
   "cell_type": "code",
   "execution_count": 11,
   "id": "910de643",
   "metadata": {},
   "outputs": [
    {
     "data": {
      "text/plain": [
       "100"
      ]
     },
     "execution_count": 11,
     "metadata": {},
     "output_type": "execute_result"
    }
   ],
   "source": [
    "z - (x * 2)"
   ]
  },
  {
   "cell_type": "code",
   "execution_count": 12,
   "id": "42ad610b",
   "metadata": {},
   "outputs": [
    {
     "data": {
      "text/plain": [
       "100"
      ]
     },
     "execution_count": 12,
     "metadata": {},
     "output_type": "execute_result"
    }
   ],
   "source": [
    "z - (x + y + y)"
   ]
  },
  {
   "cell_type": "code",
   "execution_count": 13,
   "id": "ece964d8",
   "metadata": {},
   "outputs": [],
   "source": [
    "a = 3.1572"
   ]
  },
  {
   "cell_type": "code",
   "execution_count": 14,
   "id": "99c040b7",
   "metadata": {},
   "outputs": [],
   "source": [
    "b = 20.23"
   ]
  },
  {
   "cell_type": "code",
   "execution_count": 15,
   "id": "6e665d89",
   "metadata": {},
   "outputs": [
    {
     "data": {
      "text/plain": [
       "6.407576333460028"
      ]
     },
     "execution_count": 15,
     "metadata": {},
     "output_type": "execute_result"
    }
   ],
   "source": [
    "b / a"
   ]
  },
  {
   "cell_type": "code",
   "execution_count": 16,
   "id": "350f08bd",
   "metadata": {},
   "outputs": [],
   "source": [
    "c = 'mark'"
   ]
  },
  {
   "cell_type": "code",
   "execution_count": 17,
   "id": "da1f7c7d",
   "metadata": {},
   "outputs": [],
   "source": [
    "d = 'down'"
   ]
  },
  {
   "cell_type": "code",
   "execution_count": 18,
   "id": "4735e39e",
   "metadata": {},
   "outputs": [
    {
     "data": {
      "text/plain": [
       "'markdown'"
      ]
     },
     "execution_count": 18,
     "metadata": {},
     "output_type": "execute_result"
    }
   ],
   "source": [
    "c + d"
   ]
  },
  {
   "cell_type": "code",
   "execution_count": 25,
   "id": "539ec7d0",
   "metadata": {},
   "outputs": [],
   "source": [
    "e = 'I '"
   ]
  },
  {
   "cell_type": "code",
   "execution_count": 26,
   "id": "d69c108b",
   "metadata": {},
   "outputs": [],
   "source": [
    "f = 'love '"
   ]
  },
  {
   "cell_type": "code",
   "execution_count": 21,
   "id": "48f85722",
   "metadata": {},
   "outputs": [],
   "source": [
    "g = 'dogs'"
   ]
  },
  {
   "cell_type": "code",
   "execution_count": 22,
   "id": "b3ae4705",
   "metadata": {},
   "outputs": [],
   "source": [
    "h = 'desserts'"
   ]
  },
  {
   "cell_type": "code",
   "execution_count": 27,
   "id": "2d0e7b65",
   "metadata": {},
   "outputs": [
    {
     "data": {
      "text/plain": [
       "'I love dogs'"
      ]
     },
     "execution_count": 27,
     "metadata": {},
     "output_type": "execute_result"
    }
   ],
   "source": [
    "e + f + g"
   ]
  },
  {
   "cell_type": "code",
   "execution_count": 28,
   "id": "a0a18f60",
   "metadata": {},
   "outputs": [
    {
     "data": {
      "text/plain": [
       "'I love desserts'"
      ]
     },
     "execution_count": 28,
     "metadata": {},
     "output_type": "execute_result"
    }
   ],
   "source": [
    "e + f + h"
   ]
  },
  {
   "cell_type": "code",
   "execution_count": 29,
   "id": "2003cd21",
   "metadata": {},
   "outputs": [
    {
     "data": {
      "text/plain": [
       "'I love dogsI love dogsI love dogsI love dogsI love dogsI love dogsI love dogsI love dogsI love dogsI love dogsI love dogsI love dogsI love dogsI love dogsI love dogsI love dogsI love dogsI love dogsI love dogsI love dogsI love dogsI love dogsI love dogsI love dogsI love dogsI love dogsI love dogsI love dogsI love dogsI love dogsI love dogsI love dogsI love dogsI love dogsI love dogsI love dogsI love dogsI love dogsI love dogsI love dogsI love dogsI love dogsI love dogsI love dogsI love dogsI love dogsI love dogsI love dogsI love dogsI love dogsI love dogsI love dogsI love dogsI love dogsI love dogsI love dogsI love dogsI love dogsI love dogsI love dogsI love dogsI love dogsI love dogsI love dogsI love dogsI love dogsI love dogsI love dogsI love dogsI love dogsI love dogsI love dogsI love dogsI love dogsI love dogsI love dogsI love dogsI love dogsI love dogsI love dogsI love dogsI love dogsI love dogsI love dogsI love dogsI love dogsI love dogsI love dogsI love dogsI love dogsI love dogsI love dogsI love dogsI love dogsI love dogsI love dogsI love dogsI love dogsI love dogsI love dogs'"
      ]
     },
     "execution_count": 29,
     "metadata": {},
     "output_type": "execute_result"
    }
   ],
   "source": [
    "(e + f + g)*100"
   ]
  },
  {
   "cell_type": "code",
   "execution_count": null,
   "id": "3f625347",
   "metadata": {},
   "outputs": [],
   "source": []
  }
 ],
 "metadata": {
  "kernelspec": {
   "display_name": "Python 3 (ipykernel)",
   "language": "python",
   "name": "python3"
  },
  "language_info": {
   "codemirror_mode": {
    "name": "ipython",
    "version": 3
   },
   "file_extension": ".py",
   "mimetype": "text/x-python",
   "name": "python",
   "nbconvert_exporter": "python",
   "pygments_lexer": "ipython3",
   "version": "3.9.13"
  }
 },
 "nbformat": 4,
 "nbformat_minor": 5
}
